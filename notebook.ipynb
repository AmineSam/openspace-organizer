{
 "cells": [
  {
   "cell_type": "markdown",
   "id": "46ccd25f",
   "metadata": {},
   "source": [
    "# Open Space Organizer\n",
    "\n",
    "We want to create a program that assigns 24 people to 6 tables in an openspace. Before getting started, take inventory what do we need:\n",
    "\n",
    "- People\n",
    "- Seats & Tables\n",
    "- An OpenSpace\n",
    "\n",
    "It's a good practice to start simple while you grasp the logic of the program you are trying to build and test often. For us this can translate to,\n",
    "\n",
    "- People -> List of Names (later we can figure out how to use a file)\n",
    "- Seats & Tables -> Class\n",
    "- An OpenSpace -> Class\n",
    "\n",
    "Below I've created a list of your new colleagues for reference!"
   ]
  },
  {
   "cell_type": "code",
   "execution_count": 1,
   "id": "d2272fa0",
   "metadata": {},
   "outputs": [
    {
     "data": {
      "text/plain": [
       "(24, ['Aleksei', 'Amine', 'Anna', 'Astha', 'Brigitta'])"
      ]
     },
     "execution_count": 1,
     "metadata": {},
     "output_type": "execute_result"
    }
   ],
   "source": [
    "new_collegues = [\"Aleksei\",\"Amine\",\"Anna\",\"Astha\",\"Brigitta\",\n",
    "                 \"Bryan\",\"Ena\",\"Esra\",\"Faranges\",\"Frédéric\",\n",
    "                 \"Hamideh\",\"Héloïse\",\"Imran\",\"Intan K.\",\n",
    "                 \"Jens\",\"Kristin\",\"Michiel\",\"Nancy\",\"Pierrick\",\n",
    "                 \"Sandrine\",\"Tim\",\"Viktor\",\"Welederufeal\",\"Živile\"]\n",
    "len(new_collegues), new_collegues[:5]"
   ]
  },
  {
   "cell_type": "markdown",
   "id": "5331eef9",
   "metadata": {},
   "source": [
    "## Step 1: Build a Seat\n",
    "\n",
    "Create a class called `Seat` with two attributes:\n",
    "\n",
    "- `free` which is a boolean.\n",
    "- `occupant` which is a string.\n",
    "\n",
    "and 2 functions : \n",
    "\n",
    "- `set_occupant(name)` which allows the program to assign someone a seat if it's free\n",
    "- `remove_occupant()` which  remove someone from a seat and return the name of the person occupying the seat before\n"
   ]
  },
  {
   "cell_type": "code",
   "execution_count": 2,
   "id": "b2206876",
   "metadata": {},
   "outputs": [],
   "source": [
    "class Seat:\n",
    "\t\"\"\"\n",
    "\tRepresents a single seat.\n",
    "\n",
    "\tAttributes:\n",
    "\t\tfree (bool): Whether the seat is free.\n",
    "\t\toccupant (str): Name of the person occupying the seat, empty string if free.\n",
    "\t\"\"\"\n",
    "\n",
    "\tdef __init__(self) -> None:\n",
    "\t\t\"\"\"Initialize seat as free with no occupant.\"\"\"\n",
    "\t\tself.free: bool = True\n",
    "\t\tself.occupant: str = \"\"\n",
    "\n",
    "\tdef set_occupant(self, name: str) -> bool:\n",
    "\t\t\"\"\"Assign a person to the seat if it's free.\n",
    "\n",
    "\t\tArgs:\n",
    "\t\t\tname (str): The person's name.\n",
    "\n",
    "\t\tReturns:\n",
    "\t\t\tbool: True if assignment succeeded, False if already occupied.\n",
    "\t\t\"\"\"\n",
    "\t\tif self.free:\n",
    "\t\t\tself.occupant = name\n",
    "\t\t\tself.free = False\n",
    "\t\t\treturn True\n",
    "\t\treturn False\n",
    "\n",
    "\tdef remove_occupant(self) -> str:\n",
    "\t\t\"\"\"Remove and return the current occupant (or empty string if free).\"\"\"\n",
    "\t\tif not self.free:\n",
    "\t\t\tname = self.occupant\n",
    "\t\t\tself.occupant = \"\"\n",
    "\t\t\tself.free = True\n",
    "\t\t\treturn name\n",
    "\t\treturn \"\"\n",
    "\n",
    "\tdef __str__(self) -> str:\n",
    "\t\t\"\"\"Human-readable status of the seat.\"\"\"\n",
    "\t\treturn \"Seat is free\" if self.free else f\"Seat occupied by {self.occupant}\""
   ]
  },
  {
   "cell_type": "code",
   "execution_count": 3,
   "id": "97ec69ff",
   "metadata": {},
   "outputs": [
    {
     "name": "stdout",
     "output_type": "stream",
     "text": [
      "Before: Seat is free\n",
      "Assigned? True | After: Seat occupied by Amine\n",
      "Removed: Amine | After: Seat is free\n"
     ]
    }
   ],
   "source": [
    "# Test your code (assign yourself you a Seat)\n",
    "my_seat = Seat()\n",
    "print(\"Before:\", my_seat)\n",
    "assigned = my_seat.set_occupant(\"Amine\")\n",
    "print(\"Assigned?\", assigned, \"| After:\", my_seat)\n",
    "removed = my_seat.remove_occupant()\n",
    "print(\"Removed:\", removed, \"| After:\", my_seat)"
   ]
  },
  {
   "cell_type": "markdown",
   "id": "12d6834f",
   "metadata": {},
   "source": [
    "What is the input and the output of your Seat class? Does it make sense?\n",
    "\n",
    "## Step 2: Build a Table\n",
    "\n",
    "Create a class `Table` with ? attributes:\n",
    "\n",
    "- `capacity` which is an integer\n",
    "- `seats` which is a list of `Seat` objects (size = `capacity`)\n",
    "\n",
    "and 3 functions : \n",
    "- `has_free_spot()` that returns a boolean (True if a spot is available)\n",
    "- `assign_seat(name)` that places someone at the table\n",
    "- `left_capacity()` that returns an integer\n",
    "\n",
    "Question: Which attributes make sense to give? For now let's say we want to build 6 tables with 4 seats.\n"
   ]
  },
  {
   "cell_type": "code",
   "execution_count": 4,
   "id": "d64b76c8",
   "metadata": {},
   "outputs": [],
   "source": [
    "class Table:\n",
    "\t\"\"\"\n",
    "\tRepresents a table with a fixed number of seats.\n",
    "\n",
    "\tAttributes:\n",
    "\t\tcapacity (int): Total number of seats.\n",
    "\t\tseats (list[Seat]): Seats at this table.\n",
    "\t\"\"\"\n",
    "\n",
    "\tdef __init__(self, capacity: int) -> None:\n",
    "\t\t\"\"\"Create a table with `capacity` new free Seat objects.\"\"\"\n",
    "\t\tself.capacity: int = capacity\n",
    "\t\tself.seats: list[Seat] = [Seat() for _ in range(capacity)]\n",
    "\n",
    "\tdef has_free_spot(self) -> bool:\n",
    "\t\t\"\"\"Return True if any seat is free.\"\"\"\n",
    "\t\tfor seat in self.seats:\n",
    "\t\t\tif seat.free:\n",
    "\t\t\t\treturn True\n",
    "\t\treturn False\n",
    "\n",
    "\tdef assign_seat(self, name: str) -> bool:\n",
    "\t\t\"\"\"Assign `name` to the first free seat, return True if successful.\"\"\"\n",
    "\t\tfor seat in self.seats:\n",
    "\t\t\tif seat.set_occupant(name):\n",
    "\t\t\t\treturn True\n",
    "\t\treturn False\n",
    "\n",
    "\tdef left_capacity(self) -> int:\n",
    "\t\t\"\"\"Return how many seats are still free.\"\"\"\n",
    "\t\tcount = 0\n",
    "\t\tfor seat in self.seats:\n",
    "\t\t\tif seat.free:\n",
    "\t\t\t\tcount += 1\n",
    "\t\treturn count\n",
    "\n",
    "\tdef __str__(self) -> str:\n",
    "\t\t\"\"\"Summary of seat availability and occupants for this table.\"\"\"\n",
    "\t\toccupied = [seat.occupant for seat in self.seats if not seat.free]\n",
    "\t\tif occupied:\n",
    "\t\t\treturn f\"Table ({len(occupied)}/{self.capacity}) occupied by: {', '.join(occupied)}\"\n",
    "\t\treturn f\"Table (0/{self.capacity}) occupied by: No one\""
   ]
  },
  {
   "cell_type": "code",
   "execution_count": 5,
   "id": "108ce578",
   "metadata": {},
   "outputs": [
    {
     "name": "stdout",
     "output_type": "stream",
     "text": [
      "Table (3/4) occupied by: Aleksei, Amine, Anna\n",
      "Has free spot? True\n",
      "Left capacity: 1\n"
     ]
    }
   ],
   "source": [
    "# Test your code (assign the colleagues at your table to a Table)\n",
    "tbl = Table(capacity=4)\n",
    "for name in new_collegues[:3]:\n",
    "\tassert tbl.assign_seat(name)\n",
    "print(tbl)\n",
    "print(\"Has free spot?\", tbl.has_free_spot())\n",
    "print(\"Left capacity:\", tbl.left_capacity())"
   ]
  },
  {
   "cell_type": "markdown",
   "id": "75f177c6",
   "metadata": {},
   "source": [
    "Does the output of you test make sense? Check that each method returns the correct value."
   ]
  },
  {
   "cell_type": "markdown",
   "id": "5b395b9e",
   "metadata": {},
   "source": [
    "## Step 3: Build an OpenSpace\n",
    "\n",
    "Create a class `Openspace` that contains these attributes:\n",
    "\n",
    "- `tables` which is a list of `Table`. _(you will need to import `Table` from `table.py`)_. \n",
    "- `number_of_tables` which is an integer.\n",
    "\n",
    "And some methods:\n",
    "\n",
    "- `organize(names)` that will:\n",
    "  - **randomly** assign people to `Seat` objects in the different `Table` objects.\n",
    "- `display()` display the different tables and there occupants in a nice and readable way\n",
    "- `store(filename)` store the repartition in an file"
   ]
  },
  {
   "cell_type": "code",
   "execution_count": 6,
   "id": "1eed7151",
   "metadata": {},
   "outputs": [],
   "source": [
    "import random\n",
    "\n",
    "class Openspace:\n",
    "\t\"\"\"\n",
    "\tRepresents an open space containing multiple tables.\n",
    "\t\"\"\"\n",
    "\tdef __init__(self, number_of_tables: int, table_capacity: int) -> None:\n",
    "\t\t\"\"\"Create `number_of_tables` tables, each with `table_capacity` seats.\"\"\"\n",
    "\t\tself.number_of_tables: int = number_of_tables\n",
    "\t\tself.tables: list[Table] = [Table(table_capacity) for _ in range(number_of_tables)]\n",
    "\n",
    "\tdef organize(self, names: list[str]) -> None:\n",
    "\t\t\"\"\"Randomly assign people to the available seats across all tables.\"\"\"\n",
    "\t\trandom.shuffle(names)\n",
    "\t\tidx = 0\n",
    "\t\tfor table in self.tables:\n",
    "\t\t\twhile table.has_free_spot() and idx < len(names):\n",
    "\t\t\t\ttable.assign_seat(names[idx])\n",
    "\t\t\t\tidx += 1\n",
    "\t\t\tif idx >= len(names):\n",
    "\t\t\t\tbreak\n",
    "\n",
    "\tdef display(self) -> None:\n",
    "\t\t\"\"\"Pretty-print the current seating plan.\"\"\"\n",
    "\t\tfor i, table in enumerate(self.tables, start=1):\n",
    "\t\t\tprint(f\"Table {i}:\")\n",
    "\t\t\tfor j, seat in enumerate(table.seats, start=1):\n",
    "\t\t\t\tlabel = seat.occupant if not seat.free else \"Free\"\n",
    "\t\t\t\tprint(f\"  Seat {j}: {label}\")\n",
    "\t\t\tprint()\n",
    "\n",
    "\tdef store(self, filename: str) -> None:\n",
    "\t\t\"\"\"Store the current seating plan into a text file.\"\"\"\n",
    "\t\twith open(filename, \"w\", encoding=\"utf-8\") as f:\n",
    "\t\t\tfor i, table in enumerate(self.tables, start=1):\n",
    "\t\t\t\tf.write(f\"Table {i}:\\n\")\n",
    "\t\t\t\tfor j, seat in enumerate(table.seats, start=1):\n",
    "\t\t\t\t\tlabel = seat.occupant if not seat.free else \"Free\"\n",
    "\t\t\t\t\tf.write(f\"  Seat {j}: {label}\\n\")\n",
    "\t\t\t\tf.write(\"\\n\")"
   ]
  },
  {
   "cell_type": "code",
   "execution_count": 29,
   "id": "6c20824f",
   "metadata": {},
   "outputs": [
    {
     "name": "stdout",
     "output_type": "stream",
     "text": [
      "Table 1:\n",
      "  Seat 1: Sandrine\n",
      "  Seat 2: Viktor\n",
      "  Seat 3: Kristin\n",
      "  Seat 4: Faranges\n",
      "\n",
      "Table 2:\n",
      "  Seat 1: Bryan\n",
      "  Seat 2: Tim\n",
      "  Seat 3: Nancy\n",
      "  Seat 4: Frédéric\n",
      "\n",
      "Table 3:\n",
      "  Seat 1: Anna\n",
      "  Seat 2: Astha\n",
      "  Seat 3: Brigitta\n",
      "  Seat 4: Michiel\n",
      "\n",
      "Table 4:\n",
      "  Seat 1: Esra\n",
      "  Seat 2: Imran\n",
      "  Seat 3: Amine\n",
      "  Seat 4: Pierrick\n",
      "\n",
      "Table 5:\n",
      "  Seat 1: Jens\n",
      "  Seat 2: Welederufeal\n",
      "  Seat 3: Živile\n",
      "  Seat 4: Hamideh\n",
      "\n",
      "Table 6:\n",
      "  Seat 1: Intan K.\n",
      "  Seat 2: Héloïse\n",
      "  Seat 3: Aleksei\n",
      "  Seat 4: Ena\n",
      "\n",
      "\n",
      "Stored file preview (first 20 lines):\n",
      "1: Table 1:\n",
      "2:   Seat 1: Sandrine\n",
      "3:   Seat 2: Viktor\n",
      "4:   Seat 3: Kristin\n",
      "5:   Seat 4: Faranges\n",
      "6: \n",
      "7: Table 2:\n",
      "8:   Seat 1: Bryan\n",
      "9:   Seat 2: Tim\n",
      "10:   Seat 3: Nancy\n",
      "11:   Seat 4: Frédéric\n",
      "12: \n",
      "13: Table 3:\n",
      "14:   Seat 1: Anna\n",
      "15:   Seat 2: Astha\n",
      "16:   Seat 3: Brigitta\n",
      "17:   Seat 4: Michiel\n",
      "18: \n",
      "19: Table 4:\n",
      "20:   Seat 1: Esra\n",
      "21:   Seat 2: Imran\n",
      "22:   Seat 3: Amine\n",
      "23:   Seat 4: Pierrick\n",
      "24: \n",
      "25: Table 5:\n",
      "26:   Seat 1: Jens\n",
      "27:   Seat 2: Welederufeal\n",
      "28:   Seat 3: Živile\n",
      "29:   Seat 4: Hamideh\n",
      "30: \n",
      "31: Table 6:\n",
      "32:   Seat 1: Intan K.\n",
      "33:   Seat 2: Héloïse\n",
      "34:   Seat 3: Aleksei\n",
      "35:   Seat 4: Ena\n",
      "36: \n"
     ]
    }
   ],
   "source": [
    "# Test your code (assign everyone in the class to a table)\n",
    "space = Openspace(number_of_tables=6, table_capacity=4)\n",
    "space.organize(new_collegues)\n",
    "space.display()\n",
    "\n",
    "# Also test storing to file\n",
    "_output_file = \"notebook_output.txt\"\n",
    "space.store(_output_file)\n",
    "with open(_output_file, \"r\", encoding=\"utf-8\") as f:\n",
    "\tprint(\"\\nStored file preview (first 20 lines):\")\n",
    "\tfor i, line in enumerate(f.readlines(), start=1):\n",
    "\t\tprint(f\"{i}: {line.rstrip()}\")"
   ]
  },
  {
   "cell_type": "markdown",
   "id": "0d3923a8",
   "metadata": {},
   "source": [
    "Hurray! You have the algorithm logic working. Next steps we transform this into some scripts! **Big note:** Once you move to the scrips you may need to adapt your logic, don't fret this is normal!"
   ]
  }
 ],
 "metadata": {
  "kernelspec": {
   "display_name": "Python 3",
   "language": "python",
   "name": "python3"
  },
  "language_info": {
   "codemirror_mode": {
    "name": "ipython",
    "version": 3
   },
   "file_extension": ".py",
   "mimetype": "text/x-python",
   "name": "python",
   "nbconvert_exporter": "python",
   "pygments_lexer": "ipython3",
   "version": "3.12.4"
  }
 },
 "nbformat": 4,
 "nbformat_minor": 5
}
